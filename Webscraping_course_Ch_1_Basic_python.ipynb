{
  "nbformat": 4,
  "nbformat_minor": 0,
  "metadata": {
    "colab": {
      "provenance": []
    },
    "kernelspec": {
      "name": "python3",
      "display_name": "Python 3"
    },
    "language_info": {
      "name": "python"
    }
  },
  "cells": [
    {
      "cell_type": "markdown",
      "source": [
        "# Prologue\n",
        "\n",
        "Python is a versatile and powerful programming language that has gained\n",
        "  significant popularity in the field of web scraping. Web scraping refers to\n",
        "     the automated extraction of data from websites, and Python provides a\n",
        "        range of libraries and tools that make this task efficient and  straightforward.\n",
        "\n",
        "Python's simplicity and readability make it an ideal language for web scraping projects. One of the most widely used libraries for web scraping in Python is BeautifulSoup. It allows developers to parse HTML and XML documents, navigate through the website's structure, and extract relevant information with ease. BeautifulSoup's intuitive API simplifies the process of locating and extracting specific elements, such as text, links, tables, or images, from web pages.\n",
        "\n",
        "Web scraping with Python has numerous applications. It can be used for extracting data for research and analysis, gathering competitive intelligence, monitoring prices and stock information, aggregating news and social media content, and much more. Python's flexibility and the availability of powerful scraping libraries make it a preferred language for extracting valuable insights from the vast amount of data available on the web.\n",
        "\n",
        "In the following course, we're going to learn:\n",
        "\n",
        "<blockquote>\n",
        "<strong style=\"color: brown;\">\n",
        "<li>how to write basic python code</li>\n",
        "<li>how to work in an integrated development environment (pycharm)</li>\n",
        "<li>how to create our own webscraper using the beautiful soup library</li>\n",
        "<li>how to make a request to fetch the HTML code of websites</li>\n",
        "<li>what are the applications of webscraping</li>\n",
        "<li>...and so much more!!!!</li>\n",
        "</strong>\n",
        "</blockquote>\n",
        "\n",
        "Today's lesson will be focused on how to write basic python code. It is a prerequisite for webscraping.\n",
        "\n",
        "With all being said, <i>let's get started.</i>"
      ],
      "metadata": {
        "id": "z14YD-qlxjVW"
      }
    },
    {
      "cell_type": "markdown",
      "source": [
        "# Printing\n",
        "\n",
        "In Python, printing text is a fundamental operation that allows you to display information or messages on the screen. The print() function is used to achieve this.\n",
        "\n",
        "To print text in Python, you simply need to provide the text you want to display as an argument to the print() function. For example, if you want to print the message \"Hello, World!\", you can write:"
      ],
      "metadata": {
        "id": "bfI0D3UazMin"
      }
    },
    {
      "cell_type": "code",
      "source": [
        "print(\"Hello World\")"
      ],
      "metadata": {
        "id": "pEZSutrk0nVd"
      },
      "execution_count": null,
      "outputs": []
    },
    {
      "cell_type": "markdown",
      "source": [
        "# Variables\n",
        "\n",
        "In Python, variables are used to store and manipulate data. A variable is essentially a named location in the computer's memory where you can store a value. You can think of variables as containers that hold different types of information, such as numbers, strings, lists, or more complex data structures.\n",
        "\n",
        "To create a variable in Python, you need to choose a name for it and assign a value using the assignment operator (=). For example:"
      ],
      "metadata": {
        "id": "sY4d3bFV016S"
      }
    },
    {
      "cell_type": "code",
      "source": [
        "name = \"Isaac\""
      ],
      "metadata": {
        "id": "hhgo-yVI1Anv"
      },
      "execution_count": null,
      "outputs": []
    },
    {
      "cell_type": "markdown",
      "source": [
        "In addition, variables and be used in expressions and operations, for example:"
      ],
      "metadata": {
        "id": "uaYC7dLg1LYD"
      }
    },
    {
      "cell_type": "code",
      "source": [
        "x = 3\n",
        "y = 4\n",
        "result = x + y\n",
        "print(result)"
      ],
      "metadata": {
        "colab": {
          "base_uri": "https://localhost:8080/"
        },
        "id": "SCUj_jkM1SEs",
        "outputId": "ecc3f410-e612-41bd-da5c-c8669738156d"
      },
      "execution_count": null,
      "outputs": [
        {
          "output_type": "stream",
          "name": "stdout",
          "text": [
            "7\n"
          ]
        }
      ]
    },
    {
      "cell_type": "markdown",
      "source": [
        "# Concatenation\n",
        "\n",
        "Concatenation refers to the process of combining two or more strings (or other sequence types) together to form a single string. The concatenation operation is performed using the + operator. Here is an example:\n",
        "\n",
        "\n"
      ],
      "metadata": {
        "id": "sVfSFX1e7txj"
      }
    },
    {
      "cell_type": "code",
      "source": [
        "str1 = \"Hello\"\n",
        "str2 = \"World\"\n",
        "concatenated_str = str1 + \" \" + str2\n",
        "print(concatenated_str)"
      ],
      "metadata": {
        "id": "xPH3bIFm8ASI"
      },
      "execution_count": null,
      "outputs": []
    },
    {
      "cell_type": "markdown",
      "source": [
        "# Data types\n",
        "\n",
        "In Python, data types define the nature and behavior of the values stored in variables. Python supports several built-in data types, each designed to represent and handle different kinds of information. Here are some commonly used data types in Python:\n",
        "\n",
        "\n",
        "\n",
        "1.   String (a sequence of characters) 'str'\n",
        "2.   Integer (whole numbers) 'int'\n",
        "3.   Floating-point (decimal numbers) 'float'\n",
        "4.   Boolean (true or false) 'bool'\n",
        "5.   List (an ordered collection of items enclosed in square brackets) 'list'\n",
        "\n",
        "(and more...)\n",
        "\n"
      ],
      "metadata": {
        "id": "Dc8-9bG01dNT"
      }
    },
    {
      "cell_type": "code",
      "source": [
        "# You can check data types with the type() function\n",
        "print(type(\"hello\"))\n",
        "print(type(69))\n",
        "print(type(3.14))\n",
        "print(type(True))\n",
        "print(type([\"apple\", \"banana\", \"pear\", 1, 2, 3]))"
      ],
      "metadata": {
        "colab": {
          "base_uri": "https://localhost:8080/"
        },
        "id": "EV6oF6xx2PkE",
        "outputId": "45eeab7d-c3f8-40ec-eed3-4c720fd77ff1"
      },
      "execution_count": null,
      "outputs": [
        {
          "output_type": "stream",
          "name": "stdout",
          "text": [
            "<class 'str'>\n",
            "<class 'int'>\n",
            "<class 'float'>\n",
            "<class 'bool'>\n",
            "<class 'list'>\n"
          ]
        }
      ]
    },
    {
      "cell_type": "markdown",
      "source": [
        "Comments are used to add explanatory notes or remarks within the code that are ignored by the interpreter or compiler. They are helpful for documenting code, providing context, and improving code readability. Add a '#' at the beginning to create comment."
      ],
      "metadata": {
        "id": "zBTUfepAmN8h"
      }
    },
    {
      "cell_type": "markdown",
      "source": [
        "# Input\n",
        "\n",
        "In Python, the input() function is used to accept user input from the console or terminal. It allows you to prompt the user for information and store their response in a variable for further processing.\n",
        "\n",
        "The input() function takes an optional string argument, which is the prompt or message displayed to the user. This prompt provides instructions or asks a question to guide the user's input. For example:"
      ],
      "metadata": {
        "id": "9ctPDC-z0v8K"
      }
    },
    {
      "cell_type": "code",
      "source": [
        "name = input(\"What is your name? \")\n",
        "print(name)"
      ],
      "metadata": {
        "colab": {
          "base_uri": "https://localhost:8080/"
        },
        "id": "wZ1Qize00zvg",
        "outputId": "44126952-05fe-4c58-caf4-ed2f27bac896"
      },
      "execution_count": null,
      "outputs": [
        {
          "output_type": "stream",
          "name": "stdout",
          "text": [
            "What is your name? Isaac\n",
            "Isaac\n"
          ]
        }
      ]
    },
    {
      "cell_type": "markdown",
      "source": [
        "# Operators and if else statements\n",
        "\n",
        "In Python, mathematical and logical operators are used to perform arithmetic operations and evaluate logical conditions, respectively. Here's an overview of commonly used mathematical and logical operators in Python:\n",
        "\n",
        "Mathematical Operators:\n",
        "\n",
        "1.   Addition: +\n",
        "2.   Subtraction: -\n",
        "3.   Multiplication: *\n",
        "4.   Division: / (returns a float)\n",
        "5.   Modulo: % (returns the remainder after division)\n",
        "6.   Exponentiation: ** (raises the first operand to the power of the second operand)\n",
        "\n",
        "\n"
      ],
      "metadata": {
        "id": "cgiZ4eih3Chw"
      }
    },
    {
      "cell_type": "code",
      "source": [
        "((5-3+2*9)/10)%2"
      ],
      "metadata": {
        "colab": {
          "base_uri": "https://localhost:8080/"
        },
        "id": "a9NWhr-f4Bfy",
        "outputId": "aae5015e-7964-41e1-a409-4e91a3b965a4"
      },
      "execution_count": null,
      "outputs": [
        {
          "output_type": "execute_result",
          "data": {
            "text/plain": [
              "0.0"
            ]
          },
          "metadata": {},
          "execution_count": 7
        }
      ]
    },
    {
      "cell_type": "markdown",
      "source": [
        "Logical operators:\n",
        "\n",
        "1.   AND (and): Returns True if both operands are True, otherwise False.\n",
        "2.   OR (or): Returns True if at least one of the operands is True, otherwise\n",
        "3.   NOT (not): Returns the opposite of the operand's logical value.\n",
        "\n"
      ],
      "metadata": {
        "id": "-1F-0ZdU4NBw"
      }
    },
    {
      "cell_type": "code",
      "source": [
        "# Logical AND: Checking if all conditions are True\n",
        "x = 5\n",
        "y = 10\n",
        "z = 3\n",
        "\n",
        "if x > 0 and y > 0 and z > 0:\n",
        "    print(\"All conditions are True\")\n",
        "\n",
        "# Logical OR: Checking if at least one condition is True\n",
        "a = 7\n",
        "b = -2\n",
        "c = 0\n",
        "\n",
        "if a > 0 or b > 0 or c > 0:\n",
        "    print(\"At least one condition is True\")\n",
        "\n",
        "# Logical NOT: Checking if a condition is False\n",
        "value = False\n",
        "\n",
        "if not value:\n",
        "    print(\"The value is False\")"
      ],
      "metadata": {
        "id": "YYqfWjlU4Ore"
      },
      "execution_count": null,
      "outputs": []
    },
    {
      "cell_type": "markdown",
      "source": [
        "Comparison Operators:\n",
        "\n",
        "1.   Equal to (==): Returns True if the operands are equal, otherwise False.\n",
        "2.   Not equal to (!=): Returns True if the operands are not equal, otherwise False.\n",
        "3.   Greater than (>): Returns True if the left operand is greater than the right operand, otherwise False.\n",
        "4.   Less than (<): Returns True if the left operand is less than the right operand, otherwise False.\n",
        "5.   Greater than or equal to (>=): Returns True if the left operand is greater than or equal to the right operand, otherwise False.\n",
        "6.   Less than or equal to (<=): Returns True if the left operand is less than or equal to the right operand, otherwise False."
      ],
      "metadata": {
        "id": "bNi3yRco4O9Z"
      }
    },
    {
      "cell_type": "code",
      "source": [
        "69 > 42"
      ],
      "metadata": {
        "colab": {
          "base_uri": "https://localhost:8080/"
        },
        "id": "8tYIsTiv4Psp",
        "outputId": "7281acbc-15fd-4410-e7b8-ae27f48260d4"
      },
      "execution_count": null,
      "outputs": [
        {
          "output_type": "execute_result",
          "data": {
            "text/plain": [
              "True"
            ]
          },
          "metadata": {},
          "execution_count": 9
        }
      ]
    },
    {
      "cell_type": "markdown",
      "source": [
        "The if, elif, and else statements are used to control the flow of execution based on certain conditions. These statements allow you to specify different blocks of code to be executed depending on the outcome of conditional expressions."
      ],
      "metadata": {
        "id": "ybfbJ8FEhTAy"
      }
    },
    {
      "cell_type": "code",
      "source": [
        "age = 25\n",
        "\n",
        "if age < 18:\n",
        "    # Code block to be executed if age < 18\n",
        "    print(\"You are a minor.\")\n",
        "\n",
        "elif age >= 18 and age < 65:\n",
        "    # Code block to be excuted if your age is between 18 and 65\n",
        "    print(\"You are an adult.\")\n",
        "\n",
        "else:\n",
        "    # Code block to be executed if your age is 65 or above\n",
        "    print(\"You are a senior citizen.\")"
      ],
      "metadata": {
        "id": "I2sPFpyKhaNU"
      },
      "execution_count": null,
      "outputs": []
    },
    {
      "cell_type": "markdown",
      "source": [
        "# Functions\n",
        "\n",
        "A function is a block of reusable code that performs a specific task. Functions provide a way to modularize code, improve code reusability, and organize program logic. Here's an overview of defining and using functions in Python:"
      ],
      "metadata": {
        "id": "WcVlQSoL5GEB"
      }
    },
    {
      "cell_type": "code",
      "source": [
        "# Defining the function with the def keyword\n",
        "def say_hi():     # the name of the function is say_hi\n",
        "  print(\"Hi!\")\n",
        "\n",
        "# Calling the function by using its name followed by parentheses\n",
        "say_hi()\n",
        "\n",
        "# Calling the function again\n",
        "say_hi()"
      ],
      "metadata": {
        "colab": {
          "base_uri": "https://localhost:8080/"
        },
        "id": "I3Ji5ds55VYg",
        "outputId": "c63266ff-350a-4472-ddd1-afc430acf180"
      },
      "execution_count": null,
      "outputs": [
        {
          "output_type": "stream",
          "name": "stdout",
          "text": [
            "Hi!\n",
            "Hi!\n"
          ]
        }
      ]
    },
    {
      "cell_type": "markdown",
      "source": [
        "Functions can have zero or more parameters. Parameters are variables that allow you to pass values into the function. There are two main types of function parameters in Python:\n",
        "\n",
        "Positional Parameters: These are the most common type of parameters. The arguments are passed based on their position and order. Here's an example:"
      ],
      "metadata": {
        "id": "vfkqGPqg54sa"
      }
    },
    {
      "cell_type": "code",
      "source": [
        "def greet(name):\n",
        "    print(\"Hello, \" + name + \"!\")\n",
        "\n",
        "greet(\"python coder\")  # Output: Hello, python coder!"
      ],
      "metadata": {
        "colab": {
          "base_uri": "https://localhost:8080/"
        },
        "id": "xyJUsFxN6Cvn",
        "outputId": "07f235b9-40f5-476f-e73b-cc57763f8c9b"
      },
      "execution_count": null,
      "outputs": [
        {
          "output_type": "stream",
          "name": "stdout",
          "text": [
            "Hello, type you name here!\n"
          ]
        }
      ]
    },
    {
      "cell_type": "markdown",
      "source": [
        "Keyword Parameters: With keyword parameters, you specify the argument values by name. This allows for more flexibility and improves code readability. Here's an example:"
      ],
      "metadata": {
        "id": "qKDKkpLU6LyD"
      }
    },
    {
      "cell_type": "code",
      "source": [
        "def greet(name, message):\n",
        "    print(message + \", \" + name + \"!\")\n",
        "\n",
        "greet(name=\"Queenian\", message=\"Welcome\")  # Output: Welcome, Queenian!"
      ],
      "metadata": {
        "id": "g2AaiKDc6OoK"
      },
      "execution_count": null,
      "outputs": []
    },
    {
      "cell_type": "markdown",
      "source": [
        "Return Values:\n",
        "Functions can return values using the return statement. The returned value can be assigned to a variable or used directly. It is different from print() because it doesn't display anything to the console directly. Here's an example:"
      ],
      "metadata": {
        "id": "HHG4TDsl6b9_"
      }
    },
    {
      "cell_type": "code",
      "source": [
        "def add(a, b):\n",
        "    return a + b        # returns the sum of a and b\n",
        "\n",
        "result = add(3, 4)\n",
        "print(result)  # Output: 7"
      ],
      "metadata": {
        "colab": {
          "base_uri": "https://localhost:8080/"
        },
        "id": "2yeKzrg06hpP",
        "outputId": "0a59e7aa-3f63-4f9b-a219-17ff33872e03"
      },
      "execution_count": null,
      "outputs": [
        {
          "output_type": "stream",
          "name": "stdout",
          "text": [
            "7\n"
          ]
        }
      ]
    },
    {
      "cell_type": "markdown",
      "source": [
        "Working with functions are VERY common in webscraping, because you're literally using the pre-built functions (which is written by other coders). It is important to know how to use each function properly."
      ],
      "metadata": {
        "id": "ZTHZTH3p7bGn"
      }
    },
    {
      "cell_type": "markdown",
      "source": [
        "# Challenge 1: Create a calculator\n",
        "\n",
        "Using what you've learnt so far, try to write a calculator with that can add, subtract, multiply or divide 2 numbers based on the user input."
      ],
      "metadata": {
        "id": "mzHSoRlZ6-Eu"
      }
    },
    {
      "cell_type": "code",
      "source": [
        "# Write your code here"
      ],
      "metadata": {
        "id": "_S-NxA-M69Nt"
      },
      "execution_count": null,
      "outputs": []
    },
    {
      "cell_type": "markdown",
      "source": [
        "# For loops"
      ],
      "metadata": {
        "id": "GKNrNi7p7OVU"
      }
    },
    {
      "cell_type": "markdown",
      "source": [
        "A for loop is used to iterate over a sequence (such as a list) or any iterable object. It allows you to execute a block of code repeatedly for each item in the sequence. The loop iterates over each item in the sequence, and the variable item takes on the value of each item in each iteration. You can choose any variable name you like for the loop variable. Here are a few examples to illustrate the usage of for loops:"
      ],
      "metadata": {
        "id": "iii0datBahxT"
      }
    },
    {
      "cell_type": "code",
      "source": [
        "# iterate means 'to do something over and over again'\n",
        "\n",
        "# iterating over a list\n",
        "fruits = ['apple', 'banana', 'cherry']\n",
        "for fruit in fruits:\n",
        "  print(fruit)\n",
        "\n",
        "# iterating over a string\n",
        "message = \"Hello\"\n",
        "for alphabet in message:\n",
        "  print(alphabet)\n",
        "\n",
        "# iterating using range()\n",
        "\n",
        "for i in range(0, 5):     # repeat five times. From 0-4\n",
        "  print(i)"
      ],
      "metadata": {
        "colab": {
          "base_uri": "https://localhost:8080/"
        },
        "id": "JWnEOhZaapVW",
        "outputId": "8303cabd-0c76-4fec-9c7e-666a16271117"
      },
      "execution_count": null,
      "outputs": [
        {
          "output_type": "stream",
          "name": "stdout",
          "text": [
            "apple\n",
            "banana\n",
            "cherry\n",
            "H\n",
            "e\n",
            "l\n",
            "l\n",
            "o\n",
            "0\n",
            "1\n",
            "2\n",
            "3\n",
            "4\n"
          ]
        }
      ]
    },
    {
      "cell_type": "markdown",
      "source": [],
      "metadata": {
        "id": "LdHaVhN56khB"
      }
    },
    {
      "cell_type": "markdown",
      "source": [
        "# Index\n",
        "\n",
        "The index refers to the position of an item within a sequence (such as a list). It is a numeric value that represents the location of an element in the sequence, starting from 0 for the first element. You can use the index to access or manipulate specific elements within the sequence.\n",
        "\n",
        "You might think of this as a nametag, where the index is used to identify people."
      ],
      "metadata": {
        "id": "YNKtZt-Zbzzv"
      }
    },
    {
      "cell_type": "code",
      "source": [
        "# Question: What is the index of the '1'?\n",
        "array = [5, 3, 2, 1, 4]\n",
        "\n",
        "# Hint: you can use the .index() method to check its index, for example:\n",
        "print(array.index(5))\n",
        "\n",
        "# You can also access the value of the element by its index, for example:\n",
        "print(array[0])\n",
        "\n",
        "\"\"\" Bonus tip: you can also use negative indexing to access elements at the end \"\"\"\n",
        "print(array[-1])"
      ],
      "metadata": {
        "colab": {
          "base_uri": "https://localhost:8080/"
        },
        "id": "Cv9qqCsNcs2F",
        "outputId": "b347e808-cb57-4c4d-a459-0de315dbc715"
      },
      "execution_count": null,
      "outputs": [
        {
          "output_type": "stream",
          "name": "stdout",
          "text": [
            "0\n",
            "5\n",
            "4\n"
          ]
        }
      ]
    },
    {
      "cell_type": "markdown",
      "source": [
        "Getting indexes from string is similar to that of lists. Each character in the string = each value in the list. However, usually you don't need this in webscraping."
      ],
      "metadata": {
        "id": "zJTPLNmneEob"
      }
    },
    {
      "cell_type": "markdown",
      "source": [
        "# While loop\n",
        "\n",
        "A while loop is used to repeatedly execute a block of code as long as a specified condition is true. Unlike a for loop, which iterates over a sequence, a while loop continues executing as long as the condition remains true and terminates when the condition becomes false."
      ],
      "metadata": {
        "id": "1zECuPpEeqLw"
      }
    },
    {
      "cell_type": "code",
      "source": [
        "# Example: why we do not recommend to execute the following lines of code\n",
        "\n",
        "# 1 is always larger than 0\n",
        "while 1 > 0:\n",
        "\n",
        "  # this line of code will be executed infinitely many times until terminatinon\n",
        "  print(\"wow i didn't know 1 is larger than 0!!!\")"
      ],
      "metadata": {
        "id": "AZlN09Idezwe"
      },
      "execution_count": null,
      "outputs": []
    },
    {
      "cell_type": "code",
      "source": [
        "# Example: user input validation\n",
        "password = \"\"\n",
        "\n",
        "while password != \"abc123\":\n",
        "    password = input(\"Enter the password: \")\n",
        "\n",
        "# 'Access' will only be granted if the while loop stops running (user inputs the correct password)\n",
        "print(\"Access granted!\")"
      ],
      "metadata": {
        "id": "hSyuCEftfbJq"
      },
      "execution_count": null,
      "outputs": []
    },
    {
      "cell_type": "code",
      "source": [
        "# Example: Using the break statement\n",
        "while True:\n",
        "    name = input(\"Enter your name (or 'quit' to exit): \")\n",
        "    if name == \"quit\":\n",
        "        # if the user inputs 'quit' then the loop with terminate/stop running\n",
        "        break\n",
        "    print(\"Hello,\", name)"
      ],
      "metadata": {
        "id": "RVlJryjrghRW"
      },
      "execution_count": null,
      "outputs": []
    },
    {
      "cell_type": "markdown",
      "source": [
        "# List comprehension\n",
        "\n",
        "One of the ways to edit a list is the .append() method. It is a built-in method in Python that is used to add an element to the end of a list. It modifies the original list by adding the provided element as a new item at the last position."
      ],
      "metadata": {
        "id": "Hi9r4sKniWzF"
      }
    },
    {
      "cell_type": "code",
      "source": [
        "my_list = [1, 2, 3]\n",
        "print(\"Original List:\", my_list)\n",
        "\n",
        "my_list.append(4)\n",
        "print(\"After appending 4:\", my_list)"
      ],
      "metadata": {
        "id": "T0qDqm9uinQd"
      },
      "execution_count": null,
      "outputs": []
    },
    {
      "cell_type": "markdown",
      "source": [
        "However, we can use another way called list comprehension. It allows you to define a list and specify its elements in a single line of code, using a compact syntax.\n",
        "List comprehension is usually more concise and readable, and it also reduces code duplication, which is why many programmers like it."
      ],
      "metadata": {
        "id": "MNMOjHNpiu_B"
      }
    },
    {
      "cell_type": "code",
      "source": [
        "# General syntax\n",
        "# new_list = [expression for item in iterable-sequence if condition]\n",
        "\n",
        "numbers = [1, 2, 3, 4, 5]\n",
        "\n",
        "# Create a new list with the squares of the numbers\n",
        "squares = [x**2 for x in numbers]\n",
        "print(squares)  # Output: [1, 4, 9, 16, 25]\n",
        "\n",
        "# Create a new list with only the even numbers\n",
        "even_numbers = [x for x in numbers if x % 2 == 0]\n",
        "print(even_numbers)  # Output: [2, 4]"
      ],
      "metadata": {
        "id": "wq-Nys4GjTRl"
      },
      "execution_count": null,
      "outputs": []
    },
    {
      "cell_type": "markdown",
      "source": [
        "# Summary\n",
        "\n",
        "Well done! You're now officially a programmer! Don't worry if you feel that any of the concepts you learnt is confusing. Our tutors will always be there to help you. Keep up the good work and see you next lesson!\n",
        "\n",
        "Here are few exercises you can do to consolidate your knowledge:"
      ],
      "metadata": {
        "id": "lYeAvb7Xh64W"
      }
    },
    {
      "cell_type": "code",
      "source": [
        "# Exercise 1: Fizzbuzz (print and input, for loops, if else statements, operaetors)\n",
        "\n",
        "\"\"\"\n",
        "Write a function that prints numbers from 1 to 100 while following certain rules:\n",
        "For numbers divisible by 3, print \"Fizz\" instead of the number.\n",
        "For numbers divisible by 5, print \"Buzz\" instead of the number.\n",
        "For numbers divisible by both 3 and 5, print \"FizzBuzz\" instead of the number.\n",
        "For numbers that don't meet any of the above conditions, print the number itself.\n",
        "For an additional challenge, let the user input the upper limit.\n",
        "\"\"\"\n",
        "\n",
        "# Write you code here"
      ],
      "metadata": {
        "id": "4D_5670eineJ"
      },
      "execution_count": null,
      "outputs": []
    },
    {
      "cell_type": "code",
      "source": [
        "# Exercise 2: Countdown timer (while loops)\n",
        "\n",
        "\"\"\"\n",
        "Write a program that prompts the user to enter a positive integer and then\n",
        "counts down from that number to 0. Display each number in the countdown,\n",
        "and after reaching 0, print \"Countdown Complete!\".\n",
        "\"\"\"\n",
        "\n",
        "# Write you code here"
      ],
      "metadata": {
        "id": "CuqY-SjBjmE6"
      },
      "execution_count": null,
      "outputs": []
    },
    {
      "cell_type": "code",
      "source": [
        "# Exercise 3: Hangman\n",
        "\n",
        "\"\"\"\n",
        "Write a Hangman game. A random word will chosen from a list of words and the\n",
        "user will have to guess the word by inputing alphabets, with a limited number of\n",
        "chances. If he/she guesses th wrong alphabet, he/she will lose one life. The\n",
        "player can only win by guessing the correct word without losing all their lives.\n",
        "\"\"\""
      ],
      "metadata": {
        "id": "4BV7yFIxkBMD"
      },
      "execution_count": null,
      "outputs": []
    }
  ]
}