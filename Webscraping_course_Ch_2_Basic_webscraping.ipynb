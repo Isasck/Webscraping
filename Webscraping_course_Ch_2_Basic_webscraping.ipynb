{
  "nbformat": 4,
  "nbformat_minor": 0,
  "metadata": {
    "colab": {
      "provenance": [],
      "toc_visible": true
    },
    "kernelspec": {
      "name": "python3",
      "display_name": "Python 3"
    },
    "language_info": {
      "name": "python"
    }
  },
  "cells": [
    {
      "cell_type": "markdown",
      "source": [
        "# Prologue\n",
        "\n",
        "Hi! Welcome to the second part of our course. Today, we're going to learn to do some actual webscraping! At the end of lesson, you'll be able to:\n",
        "\n",
        "<blockquote>\n",
        "<strong style=\"color: brown;\">\n",
        "<li>What is Object-oriented programming</li>\n",
        "<li>What are APIs and webscraping </li>\n",
        "<li>How to make a request to parse HTML code</li>\n",
        "<li>How to read HTML code</li>\n",
        "<li>The Beautiful Soup Library</li>\n",
        "<li>How to get hold of elements in HTML code with python</li>\n",
        "<li>What we can do with these elements</li>\n",
        "</strong>\n",
        "</blockquote>\n",
        "\n",
        "At the end of the lesson today, you will be able to scrape any web on your own! Without further ado, let's begin."
      ],
      "metadata": {
        "id": "nGZ1dHwmm9NY"
      }
    },
    {
      "cell_type": "markdown",
      "source": [
        "# Object-oriented programming\n",
        "\n",
        "Object-oriented programming (OOP) is a programming model that revolves around the concept of objects, which are instances of classes. It is a way of organizing and structuring code to model real-world entities or abstract concepts.\n",
        "\n",
        "In OOP, objects are created from class definitions, which act as blueprints or templates for creating objects. A class defines the attributes (data) and behaviors (methods) that an object of that class will have. It may be a very abstract concept right now but here's a good analogy to explain.\n",
        "\n",
        "Consider a car manufacturer. The blueprint of the car is equivalent to the class in programming, where its brand, model, color, and functionalities (like moving forward) are stated. In order to actually bring the car into the real world, we must create the car using the blueprint, which is equivalent to an object in programming. Just like how manufacturers can produce tons of cars every year, we can also create objects unlimitedly with only one class."
      ],
      "metadata": {
        "id": "AHo7bZi4fcvm"
      }
    },
    {
      "cell_type": "code",
      "source": [
        "class Car:\n",
        "    def __init__(self, brand, model, color):\n",
        "        self.brand = brand\n",
        "        self.model = model\n",
        "        self.color = color\n",
        "\n",
        "    def start_engine(self):\n",
        "        print(\"Engine started.\")\n",
        "\n",
        "    def stop_engine(self):\n",
        "        print(\"Engine stopped.\")\n",
        "\n",
        "# Creating objects of the Car class\n",
        "car1 = Car(\"Toyota\", \"Camry\", \"Blue\")\n",
        "car2 = Car(\"Honda\", \"Civic\", \"Red\")\n",
        "\n",
        "# Accessing object attributes\n",
        "print(car1.brand)  # Output: Toyota\n",
        "print(car2.color)  # Output: Red\n",
        "\n",
        "# Calling object methods\n",
        "car1.start_engine()  # Output: Engine started.\n",
        "car2.stop_engine()  # Output: Engine stopped."
      ],
      "metadata": {
        "id": "xQcYIEvpgGT0"
      },
      "execution_count": null,
      "outputs": []
    },
    {
      "cell_type": "markdown",
      "source": [
        "In the following course, we're basically using blueprints (classes) designed by other programmers, beacuse the functionalities are well-defined and complete. It is not necessary for us to understand how the blueprints is written, because it is probably too complicated. We only need to know how to USE the blueprints.\n",
        "\n",
        "When we say 'import a library', what we imply is that we 'take a set of blueprints' (which is free of charge) from others. After getting these blueprints, we will be creating the actual machine (begin coding) and start scraping different websites."
      ],
      "metadata": {
        "id": "4ngTK72Zg_Hp"
      }
    },
    {
      "cell_type": "markdown",
      "source": [
        "# Application Programming Interfaces (APIs)\n",
        "\n",
        "When you browse websites, you'll come across with a lot of data. Examples include weather forecast on the HKO website, player and team stats on the NBA website and the trend of stocks. If, say, I'm a stock trader/investor and I would like to retrieve large amounts of stocks data from a website for my further analysis, what should I do? We can use APIs.\n",
        "\n",
        "An <b>Application Programming Interface</b> is a set of commands, functions, protocols and objects that programmers can use to create software or interact with an external system. We can make an API request to retrieve data or access a service. If the request is valid and structured correctly, the external system (website) will respond appropriately and give the data that you want. However, even with APIs, it is not guaranteed that we can access all pieces of information, as some data may be confidential.\n",
        "\n",
        "You may think of making an API request like ordering dishes in a restaurant. The menu shows what you can order and what you can't. After informing the waiter (making an API request), he/she will bring the dish you want, which is processed by the chef. Then you can enjoy your meal!\n",
        "\n",
        "But who are making this request to? The website, right? We call this an API endpoint, which is usually in the form of a URL or URI. The API endpoint enables communication with clients. It's similar to the address of a location.\n",
        "\n",
        "Here's how we can get hold of data with APIs."
      ],
      "metadata": {
        "id": "4QsTJaEErcTL"
      }
    },
    {
      "cell_type": "code",
      "execution_count": null,
      "metadata": {
        "id": "IMsM_1qKmqae",
        "colab": {
          "base_uri": "https://localhost:8080/"
        },
        "outputId": "d6d889a8-6581-422b-914b-8a28503b9c9d"
      },
      "outputs": [
        {
          "output_type": "execute_result",
          "data": {
            "text/plain": [
              "{'message': 'success',\n",
              " 'iss_position': {'latitude': '24.9999', 'longitude': '-128.9422'},\n",
              " 'timestamp': 1700047714}"
            ]
          },
          "metadata": {},
          "execution_count": 3
        }
      ],
      "source": [
        "# Importing the library 'requests'\n",
        "# Having this library allows us to do other things with a set of pre-written functions\n",
        "import requests\n",
        "\n",
        "# Making an API request\n",
        "# .get() accepts an arugment 'url', which is which API endpoint we want to get data from\n",
        "response = requests.get(url=\"http://api.open-notify.org/iss-now.json\")\n",
        "\n",
        "# Detects any errors in response code\n",
        "response.raise_for_status()\n",
        "\n",
        "# Printing out the response code\n",
        "print(response)\n",
        "\n",
        "# Printing out the response in the form of a python dictionary, a sequence datatype like lists\n",
        "print(response.json())"
      ]
    },
    {
      "cell_type": "markdown",
      "source": [
        "As you can see, we have succesfully gotten some data! In fact, this API returns the current location of the ISS (current latitude and longitude of the space station) and takes no inputs. Pretty cool, isn't it?\n",
        "\n",
        "More about response code: You've heard of the 404 error right? Actually, this is an example of a response code. There are plenty of response code and each has its own meaning. If it is 200/2xx then you're probably good to go. (refer to google.com)"
      ],
      "metadata": {
        "id": "uMQI_x58xyPY"
      }
    },
    {
      "cell_type": "markdown",
      "source": [
        "# Why do we need webscraping?\n",
        "\n",
        "Some websites like twitter don't have API endpoints. That means we can't use APIs request to retrieve data. But fear not, for we have another way of extracting data in the world of programming -- web scraping. It is a more complicated method of extraction of data, but it's compartively more versatile."
      ],
      "metadata": {
        "id": "pBZJ93hy127C"
      }
    },
    {
      "cell_type": "markdown",
      "source": [
        "# The Beautiful Soup Module\n",
        "\n",
        "Beautiful Soup is a popular Python library used for web scraping and parsing HTML or XML documents. It provides a convenient way to extract data from web pages by navigating and manipulating the document's structure. In the following lessons, we'll mainly be using this library to scrape webs.\n",
        "\n",
        "Documentation: https://www.crummy.com/software/BeautifulSoup/bs4/doc/\n",
        "\n",
        "There are namely four steps in webscraping (and we'll cover all of them in this course):\n",
        "\n",
        "\n",
        "1.   Fetching\n",
        "2.   Parsing\n",
        "3.   Data extraction\n",
        "4.   Data processing\n",
        "\n",
        "Today, we're going to scrape the website 'Hacker News' (https://news.ycombinator.com/news).\n"
      ],
      "metadata": {
        "id": "BEajtM9fCxP1"
      }
    },
    {
      "cell_type": "markdown",
      "source": [
        "# HTML code\n",
        "\n",
        "HTML (Hypertext Markup Language) is the standard markup language used for creating the structure and presenting the content of web pages on the Internet. It is the foundation of the World Wide Web and is understood by web browsers to render the visual representation of a web page.\n",
        "\n",
        "HTML uses a set of markup tags or elements to define the structure and semantics of the content within a web page. These tags are enclosed in angle brackets and consist of an opening tag, content, and a closing tag. We'll cover more examples later if this sounds confusing to you.\n",
        "\n",
        "(In short this is just another programming language specialized for writing websites)"
      ],
      "metadata": {
        "id": "vmv1A6M7EA15"
      }
    },
    {
      "cell_type": "markdown",
      "source": [
        "# Fetching HTML code\n",
        "\n",
        "The first step in web scraping is to send HTTP requests to the target website and retrieve the HTML content of the web pages. This can be done using the request library (as demonstrated just now in APIs) in python. Here's the we do it."
      ],
      "metadata": {
        "id": "xGuoIM8dDlFw"
      }
    },
    {
      "cell_type": "code",
      "source": [
        "import requests\n",
        "\n",
        "# This only gets the HTML code of the website instead of a easily readable output because it is not an API endpoint\n",
        "response = requests.get(\"https://news.ycombinator.com/news\")\n",
        "\n",
        "# Prints the html code of the website\n",
        "print(response.text)"
      ],
      "metadata": {
        "id": "WjN9i4nKyj-s"
      },
      "execution_count": null,
      "outputs": []
    },
    {
      "cell_type": "markdown",
      "source": [],
      "metadata": {
        "id": "i05GiVCAPzep"
      }
    },
    {
      "cell_type": "markdown",
      "source": [
        "As you can see, the output is hundreds of lines of HTML code, which may look very intimidating. But who said this is easy? (it will be eventually once you scrape websites often)"
      ],
      "metadata": {
        "id": "Ck1pGWY3FfTC"
      }
    },
    {
      "cell_type": "markdown",
      "source": [
        "# Parsing HTML code\n",
        "\n",
        "Once the HTML content is obtained, the next step is to parse the HTML structure to extract the relevant data. BeautifulSoup provide tools for navigating and manipulating HTML documents.\n",
        "\n",
        "Parsing means analyzing and converting a program into an internal format that a runtime environment can actually run. This lets python understands another programming language like HTML, so you can extract data easily using python."
      ],
      "metadata": {
        "id": "vukysDEFFyDf"
      }
    },
    {
      "cell_type": "code",
      "source": [
        "from bs4 import BeautifulSoup\n",
        "webpage = response.text\n",
        "\n",
        "# Making soup. This method takes in two arguments, the HTML code of the webpage\n",
        "# and the method by which we're going to parse it\n",
        "soup = BeautifulSoup(webpage, \"html.parser\")"
      ],
      "metadata": {
        "id": "DMlf91ULGgr0"
      },
      "execution_count": null,
      "outputs": []
    },
    {
      "cell_type": "markdown",
      "source": [
        "There's a reason we call this 'making soup'. Think of a lot of websites as a spaghetti soup. Websites consist of thousands of lines of seemingly incomprehensible code. We would need a special tool to make sense of this 'soup' of jumbled HTML code."
      ],
      "metadata": {
        "id": "z0SThhoBHn55"
      }
    },
    {
      "cell_type": "markdown",
      "source": [
        "# Understanding HTML tags and Extracting data\n",
        "\n",
        "Now that the soup is ready, we can start extracting data and make use of the data for other purposes. But first, we must learn what are HTML tags, because it is the foundation of retriving data.\n",
        "\n",
        "First, we can think of HTML code as a set of building blocks. These blocks are called HTML elements, which represent the different parts or components within a web page and define their structure, content, and behavior. Each HTML element is defined by an opening tag, content (if applicable), and a closing tag.\n",
        "\n",
        "HTML tags are special markers that define the structure and elements of a web page. These tags are used to identify and extract specific pieces of information from the HTML document. By targeting the appropriate tags, you can retrieve text, links, images, tables, or other elements of interest.\n",
        "\n",
        "HTML tags are enclosed in angle brackets (< and >). They come in pairs: an opening tag and a closing tag. The opening tag indicates the start of an element, and the closing tag indicates its end. Here are a few examples.\n",
        "\n"
      ],
      "metadata": {
        "id": "7Jv0kC5YKdno"
      }
    },
    {
      "cell_type": "code",
      "source": [
        "# You can't run the following lines of code because they're written in HTML and this interpreter only understands python code\n",
        "# It is commented to prevent any 'errors'\n",
        "\n",
        "\"\"\"e.g. In this example, <p> is the opening tag, and </p> is the closing tag. The content between these tags,\n",
        " \"This is a paragraph,\" represents the actual text of the paragraph. \"\"\"\n",
        "\n",
        "# <p>This is a paragraph.</p>\n",
        "\n",
        "\"\"\"Here, the <div> tag is the parent element, and the <h1> and <p> tags are 'child elements' within the <div>. The <div>,\n",
        "meanwhile, is the 'parent element' of the <h1> and <p>. The structure created by these tags helps organize and define the\n",
        "different parts of the web page.\"\"\"\n",
        "\n",
        "# <div>\n",
        "#   <h1>Welcome to my website!</h1>\n",
        "#   <p>This is a paragraph of text.</p>\n",
        "# </div>\n"
      ],
      "metadata": {
        "id": "yEc_dxNuLriP"
      },
      "execution_count": null,
      "outputs": []
    },
    {
      "cell_type": "markdown",
      "source": [
        "![html-demo.png](data:image/png;base64,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)"
      ],
      "metadata": {
        "id": "hbIrhwBAVgJ5"
      }
    },
    {
      "cell_type": "markdown",
      "source": [
        "For example, on YouTube, HTML divides the page into different sections, such as the header, navigation menu, content area, and footer. Each section is represented by specific HTML elements, enclosed by specific tags.\n",
        "\n",
        "Commonly used HTML tags include:\n",
        "\n",
        "\n",
        "\n",
        "*   \\<html>: Represents the root element of an HTML document.\n",
        "*   \\<head>: Contains meta-information about the HTML document, such as the title and links to external stylesheets or scripts.\n",
        "*   \\<body>: Represents the main content of the HTML document.\n",
        "*   \\<h1>, \\<h2>, \\<h3>, \\<h4>, \\<h5>, \\<h6>: Headings of various levels, with \\<h1> being the highest (most important) and \\<h6> being the lowest.\n",
        "*   \\<p>: Represents a paragraph of text.\n",
        "*   \\<a>: Creates a hyperlink and is used for linking to other web pages or resources.\n",
        "*   \\<img>: Embeds an image in the web page.\n",
        "*   \\<ul>: Represents an unordered (bulleted) list.\n",
        "*   \\<ol>: Represents an ordered (numbered) list.\n",
        "*   \\<li>: Represents an item in a list (\\<ul> or \\<ol>).\n",
        "*   \\<div>: Defines a division or section within an HTML document.\n",
        "*   \\<span>: Inline container used to group and style a small section of text or elements.\n",
        "*   \\<form>: Represents an HTML form for user input.\n",
        "*   \\<input>: Creates an input field within a form, such as a text input, checkbox, or radio button.\n",
        "*   \\<button>: Creates a clickable button.\n",
        "*   \\<label>: Represents a label for an input field.\n",
        "\n",
        "\n",
        "Or check out the full list of tags at https://www.javatpoint.com/html-tags"
      ],
      "metadata": {
        "id": "-vfvtOc9TSDj"
      }
    },
    {
      "cell_type": "markdown",
      "source": [
        "Let's get back to the world of python. Once the HTML is parsed, you can navigate the structure of the document using various methods and properties provided by Beautiful Soup. Some common methods include find() to find the first occurrence of a specific element, find_all() to find all occurrences of an element, or select() to use CSS selectors for more complex queries. Here's how we do it."
      ],
      "metadata": {
        "id": "ZcObJjSwV1UW"
      }
    },
    {
      "cell_type": "code",
      "source": [
        "# Find the element with the <title> tag\n",
        "print(soup.title)\n",
        "\n",
        "# Using the find() method\n",
        "# Find the FIRST <h1> element\n",
        "h1_element = soup.find(name='h1')\n",
        "print(h1_element)  # Prints None, which means there is no element with the tag <h1>\n",
        "\n",
        "# Using the find_all() method\n",
        "# Find ALL <a> elements\n",
        "a_elements = soup.find_all(name='a')\n",
        "for a in a_elements:\n",
        "    print(a.getText())\n",
        "    print(a.get(\"href\"))\n"
      ],
      "metadata": {
        "id": "cQIBWFZQR87W"
      },
      "execution_count": null,
      "outputs": []
    },
    {
      "cell_type": "markdown",
      "source": [
        "As you can see, we got a lot of links and everything seems out of place. This is why we need better ways to find and organize the data."
      ],
      "metadata": {
        "id": "ktf_CBs5bvRC"
      }
    },
    {
      "cell_type": "markdown",
      "source": [
        "# CSS selectors\n",
        "\n",
        "Another good way to navigate through the webpage and get hold of certain elements is to use CSS selectors. CSS (Cascading Style Sheets) selectors are patterns used to select and target specific HTML elements on a web page. CSS selectors define the elements to which a particular set of CSS rules should be applied. They play a crucial role in styling and manipulating the appearance of web pages.\n"
      ],
      "metadata": {
        "id": "TBoFuhqWaG1i"
      }
    },
    {
      "cell_type": "code",
      "source": [
        "\"\"\"\n",
        "/* CSS code */\n",
        "p {\n",
        "  color: blue;\n",
        "  background-color: lightgray;\n",
        "}\n",
        "\n",
        "h1 {\n",
        "  color: red;\n",
        "  background-color: yellow;\n",
        "}\n",
        "\"\"\""
      ],
      "metadata": {
        "id": "HxyNCEbcZyxS"
      },
      "execution_count": null,
      "outputs": []
    },
    {
      "cell_type": "code",
      "source": [
        "# Select all <p> elements\n",
        "paragraphs = soup.select('p')\n",
        "for p in paragraphs:\n",
        "    print(p.text)\n",
        "\n",
        "# Select all <span> elements with the class \"titleline\"\n",
        "# A complete list of all the articles present\n",
        "articles = soup.find_all(name=\"span\", class_=\"titleline\")\n",
        "\n",
        "# Looping through the list and printing the titleline of every article\n",
        "for article_tag in articles:\n",
        "    text = article_tag.find(name=\"a\").getText()\n",
        "    print(text)"
      ],
      "metadata": {
        "id": "0VGfUrLDcjIs"
      },
      "execution_count": null,
      "outputs": []
    },
    {
      "cell_type": "markdown",
      "source": [
        "As you can see, we got all the titlelines of every piece of news on the main page of the website."
      ],
      "metadata": {
        "id": "JF1TBbzQdeAR"
      }
    },
    {
      "cell_type": "markdown",
      "source": [
        "# Other webscraping tips\n",
        "\n",
        "1.   Use google chrome, open the web you're scraping, right-click and press 'inspect'. This shows the HTML code of the website and you can follow the structure pretty well.\n",
        "2.   Google chrome offers well-built extensions and functions for web scraping. For example, there's a box-arrow button on the top left corner once you're followed tip 1. Press that button and click on anywhere to inspect the code of that particular element. This will help you trace the tags quicker.\n",
        "3.   Go to poe.com and use AI if you're still unfamiliar with some concepts or if you just want to learn more about webscraping. It provides example code with high readability.\n",
        "4.   Use a bigger monitor if possible because viewing hundreds of lines of code on a small screen can damage your eyes (optional).\n",
        "5.   Seek help from stackoverflow. It's a platform where coders ask and answer questions (usually about how to fix errors in their code). If you encountered a bug in your code, maybe some other coders would have experienced that as well before.\n",
        "6.   Try to comment your code at first and don't be afraid to fix your code in any way. You can just undo everything anytime if something goes wrong.\n",
        "\n"
      ],
      "metadata": {
        "id": "Y0nFVY-smIeY"
      }
    },
    {
      "cell_type": "markdown",
      "source": [
        "# Final Challenge\n",
        "\n",
        "*   Put all the links, titlelines, and number of upvotes into three separate lists in order\n",
        "*   Using the data above, find the article with the most number of upvotes and print the titleline and the link  of that article\n",
        "\n",
        "Hints:\n",
        "\n",
        "*   Use .find(), .find_all() with specified arguments (e.g. class_)\n",
        "*   Use list comprehension or the .append() method\n",
        "*   Get the required information within the for loop. (You'll need 2 for loops if not mistaken)\n",
        "*   Remember what you learnt about list index for the second requirement\n",
        "*   The max() method can find the largest number in a list of numbers\n",
        "\n"
      ],
      "metadata": {
        "id": "BYJ8ytKdelzp"
      }
    },
    {
      "cell_type": "code",
      "source": [
        "# Write your code here\n",
        "\n",
        "# SOLUTION CODE\n",
        "texts = []\n",
        "links = []\n",
        "\n",
        "for article_tag in articles:\n",
        "    text = article_tag.find(name=\"a\").getText()\n",
        "    texts.append(text)\n",
        "    link = article_tag.find(name=\"span\", class_=\"sitestr\").getText()\n",
        "    links.append(link)\n",
        "\n",
        "upvotes = [int(score.getText().split()[0]) for score in soup.find_all(name=\"span\", class_=\"score\")]\n",
        "largest_no = max(upvotes)\n",
        "largest_index = upvotes.index(largest_no)\n",
        "print(texts[largest_index])\n",
        "print(links[largest_index])\n",
        "\n",
        "print(texts)\n",
        "print(links)\n",
        "print(upvotes)"
      ],
      "metadata": {
        "colab": {
          "base_uri": "https://localhost:8080/"
        },
        "id": "WBV4wIbmcrgB",
        "outputId": "e43a3043-2895-4e87-c8e0-3c2ede683ad4"
      },
      "execution_count": null,
      "outputs": [
        {
          "output_type": "stream",
          "name": "stdout",
          "text": [
            "Blender 16yo winner of UK young animator of the year\n",
            "younganimator.uk\n",
            "['DOS_deck: Play DOS games in the browser with full controller support', 'Printed robots with bones, ligaments, and tendons', 'Operating an Entire Company on a Minimal Two-Core PostgreSQL Instance, Part 1', 'Smart drugs reduce quality of effort, and slow decision-making', 'Blender 16yo winner of UK young animator of the year', \"OiNK's Pink Palace was shut down 16 years ago\", 'The truth is always made of details', 'YouTube cracks down on synthetic media with AI disclosure requirement', 'Serverless development experience for embedded computer vision', 'Show HN: Convert any screenshot into clean HTML code using GPT Vision (OSS tool)', 'The push to save the Itanium architecture in Linux', 'B-trees in Factorio', 'Push ifs up and fors down', 'SpaceX Starship/Super Heavy OFT-2 Launch Authorized', \"'No one else is saving it': the fight to protect a historic music collection\", 'I think I need to go lie down', 'The Great Sphinx of Giza may have have started out as a natural formation', 'Canned food went from military rations to fancy appetizers', '\"Grand Ball Given by the Whales,\" Vanity Fair, April 20, 1861', 'The Six Types of Conversations with Generative AI', 'Scintillocartography', 'Last Post, Please Read', 'Exploring GPTs: ChatGPT in a trench coat?', 'Show HN: OpenAI dev assistant GUI with local code interpreter', 'AI tool helps ecologists monitor rare birds through their songs', 'Google: Transforming the Future of Music Creation', 'The first two custom silicon chips designed by Microsoft for its cloud', 'LLMs by Hallucination Rate', 'WASM by example', 'Investigating the impact of cold plunges on brain activity']\n",
            "['dosdeck.com', 'ethz.ch', 'robertrode.com', 'bps.org.uk', 'younganimator.uk', 'wikipedia.org', 'raptitude.com', 'arstechnica.com', 'github.com/pipeless-ai', 'github.com/abi', 'lwn.net', 'razberry.substack.com', 'matklad.github.io', 'faa.gov', 'theguardian.com', 'twitter.com/multikev', 'arstechnica.com', 'atlasobscura.com', 'yale.edu', 'nngroup.com', 'sanchezortega.es', 'zandarvts.blogspot.com', 'simonwillison.net', 'github.com/agentcasa', 'britishecologicalsociety.org', 'deepmind.google', 'theverge.com', 'github.com/vectara', 'wasmbyexample.dev', 'neurofusionresearchinc.notion.site']\n",
            "[119, 8, 23, 28, 1392, 53, 127, 12, 6, 168, 89, 269, 493, 102, 27, 163, 88, 56, 78, 10, 43, 177, 451, 34, 40, 122, 223, 76, 309, 53]\n"
          ]
        }
      ]
    },
    {
      "cell_type": "markdown",
      "source": [
        "# Summary\n",
        "\n",
        "Congratulations if you've solved the final challenge, and don't be disheartened if you failed. I myself had to spend hours on one webscraping challenge in the past (yes, and still to this day I have to devote a huge amount of time on debugging random stuff). As practice makes perfect, I believe you'll get there eventually.\n",
        "\n",
        "In this lesson, we've learnt about APIs and the four common steps in webscraping -- fetching, parsing, data extraction and data processing. We've also covered some HTML and CSS, which are 2 programming languages that are used in building websites. You don't actually need to know how to write HTML or CSS, but rather you just have to understand its syntax so you can easily target the data you want to scrape.\n",
        "\n",
        "We'll do more practices next lesson and answer your questions if any. But, for now, just recap what you've learnt, take a good rest. Our journey of webscraping awaits you next week!"
      ],
      "metadata": {
        "id": "R3XSgDnkoAvK"
      }
    }
  ]
}